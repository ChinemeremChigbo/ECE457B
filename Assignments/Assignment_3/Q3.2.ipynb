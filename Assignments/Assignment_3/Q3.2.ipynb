{
 "cells": [
  {
   "cell_type": "code",
   "execution_count": null,
   "metadata": {},
   "outputs": [],
   "source": [
    "# Import useful libraries\n",
    "from sklearn.datasets import fetch_openml\n",
    "from sklearn.decomposition import PCA\n",
    "import numpy as np\n",
    "import matplotlib.pyplot as plt\n",
    "\n",
    "# Load MNIST dataset\n",
    "X, y = fetch_openml(\"mnist_784\", version=1, return_X_y=True, as_frame=False)\n",
    "\n",
    "# Convert labels to integers\n",
    "y = y.astype(int)\n",
    "\n",
    "# Filter out digits '0', '1', and '3'\n",
    "digits_to_keep = [0, 1, 3]\n",
    "X_filtered = X[np.isin(y, digits_to_keep)]\n",
    "y_filtered = y[np.isin(y, digits_to_keep)]\n",
    "\n",
    "# Conduct PCA to reduce the dimensionality of X\n",
    "pca = PCA(n_components=2)\n",
    "X_pca = pca.fit_transform(X_filtered)\n",
    "\n",
    "# Visualize the data distribution of digits '0', '1' and '3' in a 2D scatter plot\n",
    "plt.figure(figsize=(10, 6))\n",
    "for digit in digits_to_keep:\n",
    "    plt.scatter(\n",
    "        X_pca[y_filtered == digit, 0], X_pca[y_filtered == digit, 1], label=str(digit)\n",
    "    )\n",
    "plt.title(\"MNIST Data Distribution of Digits 0, 1, and 3 (PCA)\")\n",
    "plt.xlabel(\"Principal Component 1\")\n",
    "plt.ylabel(\"Principal Component 2\")\n",
    "plt.legend()\n",
    "plt.grid(True)\n",
    "plt.show()\n",
    "\n",
    "\n",
    "index_digit_3 = np.where(y_filtered == 3)[0][0]\n",
    "\n",
    "plt.show()\n",
    "\n",
    "midpoint = (\n",
    "    X_pca[y_filtered == 0].mean(axis=0) + X_pca[y_filtered == 1].mean(axis=0)\n",
    ") / 2\n",
    "\n",
    "vector_3 = X_pca[index_digit_3] - midpoint\n",
    "\n",
    "new_point = midpoint + 0.5 * vector_3\n",
    "\n",
    "reconstructed_image = pca.inverse_transform(new_point.reshape(1, -1))\n",
    "\n",
    "# Plot the reconstructed image\n",
    "plt.imshow(reconstructed_image.reshape(28, 28), cmap=\"gray\")\n",
    "plt.title(\"Digit 3 (Reconstructed)\")\n",
    "plt.axis(\"off\")\n",
    "plt.show()"
   ]
  },
  {
   "cell_type": "markdown",
   "metadata": {},
   "source": [
    "Model 1 with 1 hidden layer and 64 hidden nodes achieves a training accuracy of 0.690 and a validation accuracy of 0.635.\n",
    "Model 2 with 2 hidden layers and 32 hidden nodes achieves a training accuracy of 0.685 and a validation accuracy of 0.647.\n",
    "Model 3 with 2 hidden layers and 64 hidden nodes achieves a training accuracy of 0.712 and a validation accuracy of 0.653.\n",
    "From these performances, we can observe the following:\n",
    "\n",
    "Model 3, which has the highest number of hidden nodes (64) and the best performance, achieves the highest validation accuracy. This suggests that increasing the complexity of the model by adding more hidden nodes can improve performance, up to a certain point.\n",
    "\n",
    "Model 2, with two hidden layers, performs slightly better than Model 1 with only one hidden layer. This indicates that adding depth to the network can also contribute to better performance, although the improvement is not as significant as increasing the number of nodes.\n",
    "\n",
    " While Model 3 achieves the highest training accuracy, its validation accuracy is not significantly higher compared to Model 2, suggesting that Model 3 might be overfitting to the training data. Therefore, it's essential to strike a balance between model complexity and generalization performance to avoid overfitting.\n",
    "\n",
    "In summary, Model 3 with 2 hidden layers and 64 hidden nodes seems to strike a good balance between model complexity and performance, achieving the highest validation accuracy among the three models. However, further tuning and experimentation may be necessary to optimize the model's performance further."
   ]
  },
  {
   "cell_type": "markdown",
   "metadata": {},
   "source": [
    "My idea is to find the midpoint between the representations of '0' and '1' and\n",
    "then find the vector from the midpoint towards the representation of '3'. I\n",
    "would then interpolate a new point towards '3' from the midpoint and reconstruct\n",
    "an image from the interpolated point abd then transform the interpolated point\n",
    "back to the original space."
   ]
  }
 ],
 "metadata": {
  "kernelspec": {
   "display_name": "env",
   "language": "python",
   "name": "python3"
  },
  "language_info": {
   "codemirror_mode": {
    "name": "ipython",
    "version": 3
   },
   "file_extension": ".py",
   "mimetype": "text/x-python",
   "name": "python",
   "nbconvert_exporter": "python",
   "pygments_lexer": "ipython3",
   "version": "3.12.0"
  }
 },
 "nbformat": 4,
 "nbformat_minor": 2
}
