{
 "cells": [
  {
   "cell_type": "code",
   "execution_count": 9,
   "metadata": {},
   "outputs": [],
   "source": [
    "import pandas as pd\n",
    "import numpy as np\n",
    "import matplotlib.pyplot as plt\n",
    "\n",
    "import tensorflow as tf\n",
    "from tensorflow.keras.models import Sequential\n",
    "from tensorflow.keras.layers import Dense, Dropout\n",
    "from sklearn.preprocessing import LabelEncoder\n",
    "from sklearn.utils.class_weight import compute_class_weight\n",
    "from sklearn.model_selection import train_test_split\n",
    "from sklearn.metrics import (\n",
    "    accuracy_score,\n",
    "    precision_recall_fscore_support,\n",
    "    classification_report,\n",
    "    confusion_matrix,\n",
    ")"
   ]
  },
  {
   "cell_type": "code",
   "execution_count": 10,
   "metadata": {},
   "outputs": [
    {
     "data": {
      "image/png": "[encoded data removed]",
      "text/plain": [
       "<Figure size 1000x600 with 1 Axes>"
      ]
     },
     "metadata": {},
     "output_type": "display_data"
    }
   ],
   "source": [
    "# Load the training data\n",
    "train_data = pd.read_csv(\"train.csv\")\n",
    "\n",
    "# Count the occurrences of each genre\n",
    "genre_counts = train_data[\"genre\"].value_counts()\n",
    "\n",
    "\n",
    "# Plot the distribution of genres\n",
    "plt.figure(figsize=(10, 6))\n",
    "plt.bar(genre_counts.index, genre_counts.values, color=\"skyblue\")\n",
    "plt.xlabel(\"Genre\")\n",
    "plt.ylabel(\"Count\")\n",
    "plt.title(\"Distribution of Movie Genres\")\n",
    "plt.xticks(genre_counts.index, genre_counts.index.tolist())\n",
    "plt.show()"
   ]
  },
  {
   "cell_type": "markdown",
   "metadata": {},
   "source": [
    "Drama and documentary genres are the most common, with 5483 and 4861\n",
    "occurrences, respectively. Comedy is the third most common genre with 3896\n",
    "occurrences.Horror, thriller, and action genres have fewer occurrences compared\n",
    "to drama, documentary, and comedy, with 2104, 1568, and 1312 occurrences,\n",
    "respectively. The distribution of the dataset is imbalanced, with drama and\n",
    "documentary genres dominating the dataset, while horror, thriller, and action\n",
    "genres are underrepresented. This class imbalance can potentially affect the\n",
    "performance of machine learning models, particularly for genres with fewer\n",
    "occurrences, as the model may struggle to generalize well to these classes."
   ]
  },
  {
   "cell_type": "code",
   "execution_count": 11,
   "metadata": {},
   "outputs": [],
   "source": [
    "# Load the data\n",
    "train_data = pd.read_csv(\"train.csv\")\n",
    "validation_data = pd.read_csv(\"validate.csv\")\n",
    "test_data = pd.read_csv(\"test.csv\")"
   ]
  },
  {
   "cell_type": "code",
   "execution_count": 12,
   "metadata": {},
   "outputs": [],
   "source": [
    "# Separate features and labels\n",
    "X_train = train_data.drop(columns=[\"genre\"])\n",
    "y_train = train_data[\"genre\"]\n",
    "X_val = validation_data.drop(columns=[\"genre\"])\n",
    "y_val = validation_data[\"genre\"]\n",
    "X_test = test_data"
   ]
  },
  {
   "cell_type": "code",
   "execution_count": 13,
   "metadata": {},
   "outputs": [],
   "source": [
    "# Convert genre labels to integers\n",
    "label_encoder = LabelEncoder()\n",
    "y_train_encoded = label_encoder.fit_transform(y_train)\n",
    "y_val_encoded = label_encoder.transform(y_val)"
   ]
  },
  {
   "cell_type": "code",
   "execution_count": 14,
   "metadata": {},
   "outputs": [],
   "source": [
    "# # Define the simple neural network model\n",
    "# def build_model(hidden_layers, hidden_nodes, learning_rate):\n",
    "#     model = tf.keras.Sequential()\n",
    "#     model.add(\n",
    "#         tf.keras.layers.Dense(\n",
    "#             hidden_nodes, activation=\"relu\", input_shape=(X_train.shape[1],)\n",
    "#         )\n",
    "#     )\n",
    "#     for _ in range(hidden_layers - 1):\n",
    "#         model.add(tf.keras.layers.Dense(hidden_nodes, activation=\"relu\"))\n",
    "#     model.add(tf.keras.layers.Dense(len(label_encoder.classes_), activation=\"softmax\"))\n",
    "\n",
    "#     optimizer = tf.keras.optimizers.Adam(learning_rate=learning_rate)\n",
    "#     model.compile(\n",
    "#         optimizer=optimizer,\n",
    "#         loss=\"sparse_categorical_crossentropy\",\n",
    "#         metrics=[\"accuracy\"],\n",
    "#     )\n",
    "#     return model\n",
    "\n",
    "\n",
    "def build_model(hidden_layers, hidden_nodes, learning_rate):\n",
    "    model = tf.keras.Sequential()\n",
    "    model.add(\n",
    "        tf.keras.layers.Dense(\n",
    "            hidden_nodes, activation=\"relu\", input_shape=(X_train.shape[1],)\n",
    "        )\n",
    "    )\n",
    "    for _ in range(hidden_layers - 1):\n",
    "        model.add(tf.keras.layers.Dense(hidden_nodes, activation=\"relu\"))\n",
    "    model.add(tf.keras.layers.Dense(len(label_encoder.classes_), activation=\"softmax\"))\n",
    "\n",
    "    optimizer = tf.keras.optimizers.Adam(learning_rate=learning_rate)\n",
    "    model.compile(\n",
    "        optimizer=optimizer,\n",
    "        loss=\"sparse_categorical_crossentropy\",\n",
    "        metrics=[\"accuracy\"],\n",
    "    )\n",
    "    return model"
   ]
  },
  {
   "cell_type": "code",
   "execution_count": 15,
   "metadata": {},
   "outputs": [],
   "source": [
    "# Function to plot training vs validation error\n",
    "def plot_training_history(history):\n",
    "    plt.plot(history.history[\"loss\"], label=\"Train\")\n",
    "    plt.plot(history.history[\"val_loss\"], label=\"Validation\")\n",
    "    plt.xlabel(\"Epoch\")\n",
    "    plt.ylabel(\"Error\")\n",
    "    plt.title(\"Training vs Validation Error\")\n",
    "    plt.legend()\n",
    "    plt.show()"
   ]
  },
  {
   "cell_type": "code",
   "execution_count": 16,
   "metadata": {},
   "outputs": [],
   "source": [
    "# # Function to evaluate model and compute metrics\n",
    "# def evaluate_model(model, X_train, y_train, X_val, y_val):\n",
    "#     # Evaluate model\n",
    "#     y_train_pred = model.predict_classes(X_train)\n",
    "#     y_val_pred = model.predict_classes(X_val)\n",
    "\n",
    "#     # Compute metrics\n",
    "#     train_accuracy = accuracy_score(y_train, y_train_pred)\n",
    "#     val_accuracy = accuracy_score(y_val, y_val_pred)\n",
    "\n",
    "#     conf_matrix = confusion_matrix(y_val, y_val_pred)\n",
    "#     class_wise_accuracy = conf_matrix.diagonal() / conf_matrix.sum(axis=1)\n",
    "\n",
    "#     print(\"Accuracy Scores:\")\n",
    "#     print(f\"Training Accuracy: {train_accuracy}\")\n",
    "#     print(f\"Validation Accuracy: {val_accuracy}\")\n",
    "\n",
    "#     print(\"\\nClassification Report:\")\n",
    "#     print(classification_report(y_val, y_val_pred, target_names=label_encoder.classes_))\n",
    "\n",
    "#     print(\"\\nClass-wise Accuracy:\")\n",
    "#     for genre, acc in zip(label_encoder.classes_, class_wise_accuracy):\n",
    "#         print(f\"{genre}: {acc}\")\n",
    "\n",
    "# Function to evaluate model and compute metrics\n",
    "def evaluate_model(model, X_train, y_train, X_val, y_val):\n",
    "    # Evaluate model\n",
    "    y_train_pred = model.predict_classes(X_train)\n",
    "    y_val_pred = model.predict_classes(X_val)\n",
    "\n",
    "    # Compute metrics\n",
    "    train_accuracy = accuracy_score(y_train, y_train_pred)\n",
    "    val_accuracy = accuracy_score(y_val, y_val_pred)\n",
    "\n",
    "    conf_matrix = confusion_matrix(y_val, y_val_pred)\n",
    "    class_wise_accuracy = conf_matrix.diagonal() / conf_matrix.sum(axis=1)\n",
    "\n",
    "    print(\"Accuracy Scores:\")\n",
    "    print(f\"Training Accuracy: {train_accuracy}\")\n",
    "    print(f\"Validation Accuracy: {val_accuracy}\")\n",
    "\n",
    "    print(\"\\nClassification Report:\")\n",
    "    print(classification_report(y_val, y_val_pred, target_names=label_encoder.classes_))\n",
    "\n",
    "    print(\"\\nClass-wise Accuracy:\")\n",
    "    for genre, acc in zip(label_encoder.classes_, class_wise_accuracy):\n",
    "        print(f\"{genre}: {acc}\")"
   ]
  },
  {
   "cell_type": "code",
   "execution_count": 17,
   "metadata": {},
   "outputs": [
    {
     "name": "stdout",
     "output_type": "stream",
     "text": [
      "\n",
      "Model 1: Hidden Layers: 1, Hidden Nodes: 64\n"
     ]
    },
    {
     "name": "stderr",
     "output_type": "stream",
     "text": [
      "/Users/chinemerem/Documents/GitHub/ECE457B/env/lib/python3.12/site-packages/keras/src/layers/core/dense.py:88: UserWarning: Do not pass an `input_shape`/`input_dim` argument to a layer. When using Sequential models, prefer using an `Input(shape)` object as the first layer in the model instead.\n",
      "  super().__init__(activity_regularizer=activity_regularizer, **kwargs)\n"
     ]
    },
    {
     "ename": "TypeError",
     "evalue": "plot_training_history() takes 1 positional argument but 2 were given",
     "output_type": "error",
     "traceback": [
      "\u001b[0;31m---------------------------------------------------------------------------\u001b[0m",
      "\u001b[0;31mTypeError\u001b[0m                                 Traceback (most recent call last)",
      "Cell \u001b[0;32mIn[17], line 54\u001b[0m\n\u001b[1;32m     45\u001b[0m history \u001b[38;5;241m=\u001b[39m model\u001b[38;5;241m.\u001b[39mfit(\n\u001b[1;32m     46\u001b[0m     X_train,\n\u001b[1;32m     47\u001b[0m     y_train_encoded,\n\u001b[0;32m   (...)\u001b[0m\n\u001b[1;32m     50\u001b[0m     verbose\u001b[38;5;241m=\u001b[39m\u001b[38;5;241m0\u001b[39m,\n\u001b[1;32m     51\u001b[0m )\n\u001b[1;32m     53\u001b[0m \u001b[38;5;66;03m# Plot training vs validation error\u001b[39;00m\n\u001b[0;32m---> 54\u001b[0m \u001b[43mplot_training_history\u001b[49m\u001b[43m(\u001b[49m\u001b[43mhistory\u001b[49m\u001b[43m,\u001b[49m\u001b[43m \u001b[49m\u001b[38;5;124;43mf\u001b[39;49m\u001b[38;5;124;43m\"\u001b[39;49m\u001b[38;5;124;43mModel \u001b[39;49m\u001b[38;5;132;43;01m{\u001b[39;49;00m\u001b[43midx\u001b[49m\u001b[38;5;132;43;01m}\u001b[39;49;00m\u001b[38;5;124;43m: Training vs Validation Error\u001b[39;49m\u001b[38;5;124;43m\"\u001b[39;49m\u001b[43m)\u001b[49m\n\u001b[1;32m     56\u001b[0m \u001b[38;5;66;03m# Evaluate model and compute metrics\u001b[39;00m\n\u001b[1;32m     57\u001b[0m evaluate_model(model, X_train, y_train_encoded, X_val, y_val_encoded)\n",
      "\u001b[0;31mTypeError\u001b[0m: plot_training_history() takes 1 positional argument but 2 were given"
     ]
    }
   ],
   "source": [
    "# # Build and train the model\n",
    "# hidden_layers = 1\n",
    "# hidden_nodes = 64\n",
    "# learning_rate = 0.001\n",
    "# epochs = 100\n",
    "\n",
    "# model = build_model(hidden_layers, hidden_nodes, learning_rate)\n",
    "# history = model.fit(\n",
    "#     X_train,\n",
    "#     y_train_encoded,\n",
    "#     epochs=epochs,\n",
    "#     validation_data=(X_val, y_val_encoded),\n",
    "#     verbose=0,\n",
    "# )\n",
    "\n",
    "# # Plot the training vs validation error\n",
    "# plot_training_history(history)\n",
    "\n",
    "# # Evaluate the model\n",
    "# y_train_pred = model.predict(X_train)\n",
    "# y_train_classes = np.argmax(y_train_pred, axis=1)\n",
    "# y_val_pred = model.predict(X_val)\n",
    "# y_val_pred_classes = np.argmax(y_val_pred, axis=1)\n",
    "\n",
    "# train_accuracy = accuracy_score(y_train_encoded, y_train_classes)\n",
    "# val_accuracy = accuracy_score(y_val_encoded, y_val_pred_classes)\n",
    "# Define model structures\n",
    "model_structures = [\n",
    "    {\"hidden_layers\": 1, \"hidden_nodes\": 64},\n",
    "    {\"hidden_layers\": 2, \"hidden_nodes\": 32},\n",
    "    {\"hidden_layers\": 2, \"hidden_nodes\": 64},\n",
    "]\n",
    "\n",
    "# Train and evaluate models\n",
    "for idx, structure in enumerate(model_structures, start=1):\n",
    "    hidden_layers = structure[\"hidden_layers\"]\n",
    "    hidden_nodes = structure[\"hidden_nodes\"]\n",
    "    learning_rate = 0.001\n",
    "    epochs = 100\n",
    "\n",
    "    print(\n",
    "        f\"\\nModel {idx}: Hidden Layers: {hidden_layers}, Hidden Nodes: {hidden_nodes}\"\n",
    "    )\n",
    "    model = build_model(hidden_layers, hidden_nodes, learning_rate)\n",
    "    history = model.fit(\n",
    "        X_train,\n",
    "        y_train_encoded,\n",
    "        epochs=epochs,\n",
    "        validation_data=(X_val, y_val_encoded),\n",
    "        verbose=0,\n",
    "    )\n",
    "\n",
    "    # Plot training vs validation error\n",
    "    plot_training_history(history, f\"Model {idx}: Training vs Validation Error\")\n",
    "\n",
    "    # Evaluate model and compute metrics\n",
    "    evaluate_model(model, X_train, y_train_encoded, X_val, y_val_encoded)"
   ]
  },
  {
   "cell_type": "code",
   "execution_count": null,
   "metadata": {},
   "outputs": [
    {
     "name": "stdout",
     "output_type": "stream",
     "text": [
      "Accuracy Scores:\n",
      "Training Accuracy: 0.6799833541406575\n",
      "Validation Accuracy: 0.6436377458899554\n",
      "\n",
      "Classification Report:\n",
      "              precision    recall  f1-score   support\n",
      "\n",
      "      action       0.51      0.54      0.53       657\n",
      "      comedy       0.73      0.48      0.58      2241\n",
      " documentary       0.81      0.80      0.80      2716\n",
      "       drama       0.55      0.74      0.63      3012\n",
      "      horror       0.75      0.58      0.66      1102\n",
      "    thriller       0.38      0.35      0.37       795\n",
      "\n",
      "    accuracy                           0.64     10523\n",
      "   macro avg       0.62      0.58      0.59     10523\n",
      "weighted avg       0.66      0.64      0.64     10523\n",
      "\n"
     ]
    }
   ],
   "source": [
    "# print(\"Accuracy Scores:\")\n",
    "# print(f\"Training Accuracy: {train_accuracy}\")\n",
    "# print(f\"Validation Accuracy: {val_accuracy}\")\n",
    "\n",
    "# print(\"\\nClassification Report:\")\n",
    "# print(\n",
    "#     classification_report(\n",
    "#         y_val_encoded, y_val_pred_classes, target_names=label_encoder.classes_\n",
    "#     )\n",
    "# )\n",
    "\n",
    "# # Compute confusion matrix\n",
    "# conf_matrix = confusion_matrix(y_val_encoded, y_val_pred_classes)\n",
    "\n",
    "# # Compute class-wise accuracy\n",
    "# class_wise_accuracy = conf_matrix.diagonal() / conf_matrix.sum(axis=1)\n",
    "\n",
    "# print(\"\\nClass-wise Accuracy:\")\n",
    "# for genre, acc in zip(label_encoder.classes_, class_wise_accuracy):\n",
    "#     print(f\"{genre}: {acc}\")"
   ]
  },
  {
   "cell_type": "code",
   "execution_count": null,
   "metadata": {},
   "outputs": [
    {
     "name": "stdout",
     "output_type": "stream",
     "text": [
      "\n",
      "Class-wise Accuracy:\n",
      "action: 0.54337899543379\n",
      "comedy: 0.47746541722445335\n",
      "documentary: 0.8022827687776142\n",
      "drama: 0.7443559096945551\n",
      "horror: 0.5843920145190563\n",
      "thriller: 0.3534591194968553\n"
     ]
    }
   ],
   "source": [
    "# # Build and train the model\n",
    "# hidden_layers = 2\n",
    "# hidden_nodes = 32\n",
    "# learning_rate = 0.001\n",
    "# epochs = 100\n",
    "\n",
    "# model = build_model(hidden_layers, hidden_nodes, learning_rate)\n",
    "# history = model.fit(\n",
    "#     X_train,\n",
    "#     y_train_encoded,\n",
    "#     epochs=epochs,\n",
    "#     validation_data=(X_val, y_val_encoded),\n",
    "#     verbose=0,\n",
    "# )\n",
    "\n",
    "# # Plot the training vs validation error\n",
    "# plot_training_history(history)\n",
    "\n",
    "# # Evaluate the model\n",
    "# y_train_pred = model.predict(X_train)\n",
    "# y_train_classes = np.argmax(y_train_pred, axis=1)\n",
    "# y_val_pred = model.predict(X_val)\n",
    "# y_val_pred_classes = np.argmax(y_val_pred, axis=1)\n",
    "\n",
    "# train_accuracy = accuracy_score(y_train_encoded, y_train_classes)\n",
    "# val_accuracy = accuracy_score(y_val_encoded, y_val_pred_classes)"
   ]
  },
  {
   "cell_type": "code",
   "execution_count": null,
   "metadata": {},
   "outputs": [],
   "source": [
    "# print(\"Accuracy Scores:\")\n",
    "# print(f\"Training Accuracy: {train_accuracy}\")\n",
    "# print(f\"Validation Accuracy: {val_accuracy}\")\n",
    "\n",
    "# print(\"\\nClassification Report:\")\n",
    "# print(\n",
    "#     classification_report(\n",
    "#         y_val_encoded, y_val_pred_classes, target_names=label_encoder.classes_\n",
    "#     )\n",
    "# )\n",
    "\n",
    "# # Compute confusion matrix\n",
    "# conf_matrix = confusion_matrix(y_val_encoded, y_val_pred_classes)\n",
    "\n",
    "# # Compute class-wise accuracy\n",
    "# class_wise_accuracy = conf_matrix.diagonal() / conf_matrix.sum(axis=1)\n",
    "\n",
    "# print(\"\\nClass-wise Accuracy:\")\n",
    "# for genre, acc in zip(label_encoder.classes_, class_wise_accuracy):\n",
    "#     print(f\"{genre}: {acc}\")"
   ]
  },
  {
   "cell_type": "code",
   "execution_count": null,
   "metadata": {},
   "outputs": [],
   "source": [
    "# # Build and train the model\n",
    "# hidden_layers = 2\n",
    "# hidden_nodes = 32\n",
    "# learning_rate = 0.001\n",
    "# epochs = 100\n",
    "\n",
    "# model = build_model(hidden_layers, hidden_nodes, learning_rate)\n",
    "# history = model.fit(\n",
    "#     X_train,\n",
    "#     y_train_encoded,\n",
    "#     epochs=epochs,\n",
    "#     validation_data=(X_val, y_val_encoded),\n",
    "#     verbose=0,\n",
    "# )\n",
    "\n",
    "# # Plot the training vs validation error\n",
    "# plot_training_history(history)\n",
    "\n",
    "# # Evaluate the model\n",
    "# y_train_pred = model.predict(X_train)\n",
    "# y_train_classes = np.argmax(y_train_pred, axis=1)\n",
    "# y_val_pred = model.predict(X_val)\n",
    "# y_val_pred_classes = np.argmax(y_val_pred, axis=1)\n",
    "\n",
    "# train_accuracy = accuracy_score(y_train_encoded, y_train_classes)\n",
    "# val_accuracy = accuracy_score(y_val_encoded, y_val_pred_classes)"
   ]
  },
  {
   "cell_type": "code",
   "execution_count": null,
   "metadata": {},
   "outputs": [],
   "source": [
    "# # Define the model\n",
    "# model = Sequential(\n",
    "#     [\n",
    "#         Dense(512, activation=\"relu\", input_shape=(X_train.shape[1],)),\n",
    "#         Dropout(0.5),\n",
    "#         Dense(256, activation=\"relu\"),\n",
    "#         Dropout(0.5),\n",
    "#         Dense(128, activation=\"relu\"),\n",
    "#         Dropout(0.5),\n",
    "#         Dense(6, activation=\"softmax\"),\n",
    "#     ]\n",
    "# )"
   ]
  },
  {
   "cell_type": "code",
   "execution_count": null,
   "metadata": {},
   "outputs": [],
   "source": [
    "# # Compile the model\n",
    "# model.compile(\n",
    "#     optimizer=\"adam\", loss=\"sparse_categorical_crossentropy\", metrics=[\"accuracy\"]\n",
    "# )"
   ]
  },
  {
   "cell_type": "code",
   "execution_count": null,
   "metadata": {},
   "outputs": [],
   "source": [
    "# # Train the model\n",
    "# history = model.fit(\n",
    "#     X_train,\n",
    "#     y_train,\n",
    "#     epochs=20,\n",
    "#     batch_size=64,\n",
    "#     validation_data=(X_val, y_val),\n",
    "#     class_weight=class_weights,\n",
    "# )"
   ]
  },
  {
   "cell_type": "code",
   "execution_count": null,
   "metadata": {},
   "outputs": [],
   "source": [
    "# # Make predictions on the test set\n",
    "# predictions = model.predict_classes(X_test)"
   ]
  },
  {
   "cell_type": "code",
   "execution_count": null,
   "metadata": {},
   "outputs": [],
   "source": [
    "# # Prepare submission file\n",
    "# submission_df = pd.DataFrame({\"ID\": test_data.index + 1, \"label\": predictions})\n",
    "# submission_df.to_csv(\"submission.csv\", index=False)"
   ]
  }
 ],
 "metadata": {
  "kernelspec": {
   "display_name": "env",
   "language": "python",
   "name": "python3"
  },
  "language_info": {
   "codemirror_mode": {
    "name": "ipython",
    "version": 3
   },
   "file_extension": ".py",
   "mimetype": "text/x-python",
   "name": "python",
   "nbconvert_exporter": "python",
   "pygments_lexer": "ipython3",
   "version": "3.12.0"
  }
 },
 "nbformat": 4,
 "nbformat_minor": 2
}
