{
 "cells": [
  {
   "cell_type": "code",
   "execution_count": null,
   "metadata": {},
   "outputs": [],
   "source": [
    "import numpy as np\n",
    "import matplotlib.pyplot as plt\n",
    "from itertools import combinations"
   ]
  },
  {
   "cell_type": "code",
   "execution_count": null,
   "metadata": {},
   "outputs": [],
   "source": [
    "num_dimesions = 10\n",
    "dimensions = [2**i for i in range(num_dimesions + 1)]\n",
    "\n",
    "\n",
    "def squared_euclidean_distance(x, y):\n",
    "    return np.sum((x - y) ** 2)\n",
    "\n",
    "\n",
    "def manhattan_distance(x, y):\n",
    "    return np.sum(np.abs(x - y))\n",
    "\n",
    "\n",
    "def calculate_distances(dim, distance_func):\n",
    "    distances = []\n",
    "    for _ in range(100):\n",
    "        points = np.random.rand(100, dim)\n",
    "        pair_distances = [distance_func(p1, p2) for p1, p2 in combinations(points, 2)]\n",
    "        distances.extend(pair_distances)\n",
    "    avg_distance = np.mean(distances)\n",
    "    std_deviation = np.std(distances)\n",
    "    return avg_distance, std_deviation"
   ]
  },
  {
   "cell_type": "code",
   "execution_count": null,
   "metadata": {},
   "outputs": [],
   "source": [
    "results_euclidean = {\"avg\": [], \"std\": []}\n",
    "results_manhattan = {\"avg\": [], \"std\": []}\n",
    "\n",
    "for dim in dimensions:\n",
    "    avg_dist_euclidean, std_dev_euclidean = calculate_distances(\n",
    "        dim, squared_euclidean_distance\n",
    "    )\n",
    "    avg_dist_manhattan, std_dev_manhattan = calculate_distances(dim, manhattan_distance)\n",
    "    results_euclidean[\"avg\"].append(avg_dist_euclidean)\n",
    "    results_euclidean[\"std\"].append(std_dev_euclidean)\n",
    "    results_manhattan[\"avg\"].append(avg_dist_manhattan)\n",
    "    results_manhattan[\"std\"].append(std_dev_manhattan)"
   ]
  },
  {
   "cell_type": "code",
   "execution_count": null,
   "metadata": {},
   "outputs": [],
   "source": [
    "print(\"Euclidean Distance:\")\n",
    "print(\"Dimension\\tAverage Distance\\tStandard Deviation\")\n",
    "for dim in range(num_dimesions + 1):\n",
    "    print(\n",
    "        f\"{2**dim}\\t\\t{results_euclidean['avg'][dim]}\\t\\t{results_euclidean['std'][dim]}\"\n",
    "    )\n",
    "\n",
    "print(\"\\nManhattan Distance:\")\n",
    "print(\"Dimension\\tAverage Distance\\tStandard Deviation\")\n",
    "for dim in range(num_dimesions + 1):\n",
    "    print(\n",
    "        f\"{2**dim}\\t\\t{results_manhattan['avg'][dim]}\\t\\t{results_manhattan['std'][dim]}\"\n",
    "    )"
   ]
  },
  {
   "cell_type": "code",
   "execution_count": null,
   "metadata": {},
   "outputs": [],
   "source": [
    "plt.figure(figsize=(12, 6))\n",
    "\n",
    "plt.subplot(1, 2, 1)\n",
    "plt.plot(dimensions, results_euclidean[\"avg\"], label=\"Average Distance\", marker=\"o\")\n",
    "plt.plot(dimensions, results_euclidean[\"std\"], label=\"Standard Deviation\", marker=\"x\")\n",
    "plt.title(\"Euclidean Distance\")\n",
    "plt.xlabel(\"Dimension (d)\")\n",
    "plt.ylabel(\"Distance\")\n",
    "plt.legend()\n",
    "\n",
    "plt.subplot(1, 2, 2)\n",
    "plt.plot(dimensions, results_manhattan[\"avg\"], label=\"Average Distance\", marker=\"o\")\n",
    "plt.plot(dimensions, results_manhattan[\"std\"], label=\"Standard Deviation\", marker=\"x\")\n",
    "plt.title(\"Manhattan Distance\")\n",
    "plt.xlabel(\"Dimension (d)\")\n",
    "plt.ylabel(\"Distance\")\n",
    "plt.legend()\n",
    "\n",
    "plt.tight_layout()\n",
    "plt.show()"
   ]
  }
 ],
 "metadata": {
  "kernelspec": {
   "display_name": "Python 3",
   "language": "python",
   "name": "python3"
  },
  "language_info": {
   "codemirror_mode": {
    "name": "ipython",
    "version": 3
   },
   "file_extension": ".py",
   "mimetype": "text/x-python",
   "name": "python",
   "nbconvert_exporter": "python",
   "pygments_lexer": "ipython3",
   "version": "3.12.0"
  }
 },
 "nbformat": 4,
 "nbformat_minor": 2
}
