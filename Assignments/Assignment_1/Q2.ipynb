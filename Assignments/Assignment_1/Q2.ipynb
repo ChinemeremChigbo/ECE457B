{
 "cells": [
  {
   "cell_type": "code",
   "execution_count": 2,
   "metadata": {},
   "outputs": [],
   "source": [
    "import numpy as np\n",
    "from itertools import combinations"
   ]
  },
  {
   "cell_type": "code",
   "execution_count": 3,
   "metadata": {},
   "outputs": [],
   "source": [
    "# Define the dimensions to iterate over\n",
    "dimensions = [2**i for i in range(11)]\n",
    "\n",
    "# Function to calculate squared Euclidean distance\n",
    "def squared_euclidean_distance(x, y):\n",
    "    return np.sum((x - y) ** 2)\n",
    "\n",
    "# Function to calculate Manhattan distance\n",
    "def manhattan_distance(x, y):\n",
    "    return np.sum(np.abs(x - y))\n",
    "\n",
    "# Function to sample points and calculate average distance and standard deviation\n",
    "def calculate_distances(dim, distance_func):\n",
    "    distances = []\n",
    "    for _ in range(100):\n",
    "        # Generate 100 points in the unit cube for given dimension\n",
    "        points = np.random.rand(100, dim)\n",
    "        # Calculate distances between all pairs of points\n",
    "        pair_distances = [distance_func(p1, p2) for p1, p2 in combinations(points, 2)]\n",
    "        distances.extend(pair_distances)\n",
    "    # Calculate average distance and standard deviation\n",
    "    avg_distance = np.mean(distances)\n",
    "    std_deviation = np.std(distances)\n",
    "    return avg_distance, std_deviation"
   ]
  },
  {
   "cell_type": "code",
   "execution_count": 4,
   "metadata": {},
   "outputs": [],
   "source": [
    "# Record average distances and standard deviations for each dimension for both distance metrics\n",
    "results_euclidean = {}\n",
    "results_manhattan = {}\n",
    "\n",
    "for dim in dimensions:\n",
    "    avg_dist_euclidean, std_dev_euclidean = calculate_distances(dim, squared_euclidean_distance)\n",
    "    avg_dist_manhattan, std_dev_manhattan = calculate_distances(dim, manhattan_distance)\n",
    "    results_euclidean[dim] = (avg_dist_euclidean, std_dev_euclidean)\n",
    "    results_manhattan[dim] = (avg_dist_manhattan, std_dev_manhattan)\n"
   ]
  },
  {
   "cell_type": "code",
   "execution_count": 5,
   "metadata": {},
   "outputs": [
    {
     "name": "stdout",
     "output_type": "stream",
     "text": [
      "Euclidean Distance:\n",
      "Dimension\tAverage Distance\tStandard Deviation\n",
      "1\t\t0.16781767821917215\t\t0.19820924876177726\n",
      "2\t\t0.3306554547675912\t\t0.2770600802999425\n",
      "4\t\t0.6699805091848472\t\t0.3956854072633025\n",
      "8\t\t1.328810762204934\t\t0.5561954832099965\n",
      "16\t\t2.6678995888589956\t\t0.7872012447502779\n",
      "32\t\t5.336668960029492\t\t1.1122724000362152\n",
      "64\t\t10.669095036653706\t\t1.5820286156963315\n",
      "128\t\t21.35813298084888\t\t2.2249036536399207\n",
      "256\t\t42.63932518968992\t\t3.152066226777728\n",
      "512\t\t85.31452226528428\t\t4.462519970131441\n",
      "1024\t\t170.70040283901682\t\t6.316148527019981\n"
     ]
    }
   ],
   "source": [
    "# Print results for Euclidean distance\n",
    "print(\"Euclidean Distance:\")\n",
    "print(\"Dimension\\tAverage Distance\\tStandard Deviation\")\n",
    "for dim, (avg_dist, std_dev) in results_euclidean.items():\n",
    "    print(f\"{dim}\\t\\t{avg_dist}\\t\\t{std_dev}\")"
   ]
  },
  {
   "cell_type": "code",
   "execution_count": 6,
   "metadata": {},
   "outputs": [
    {
     "name": "stdout",
     "output_type": "stream",
     "text": [
      "\n",
      "Manhattan Distance:\n",
      "Dimension\tAverage Distance\tStandard Deviation\n",
      "1\t\t0.33285100134966034\t\t0.23565610014095204\n",
      "2\t\t0.6677469143114417\t\t0.334076719043626\n",
      "4\t\t1.3343673075439346\t\t0.47120188237457666\n",
      "8\t\t2.6761336188324774\t\t0.668205498919325\n",
      "16\t\t5.328812346470386\t\t0.9407150462032727\n",
      "32\t\t10.673784743959395\t\t1.3329952118388095\n",
      "64\t\t21.33093191556239\t\t1.8892568466803676\n",
      "128\t\t42.69200584928531\t\t2.6582798970619628\n",
      "256\t\t85.3688382709206\t\t3.7723805170098967\n",
      "512\t\t170.60995968888537\t\t5.349913725021716\n",
      "1024\t\t341.30516283377784\t\t7.523668690219622\n"
     ]
    }
   ],
   "source": [
    "# Print results for Manhattan distance\n",
    "print(\"\\nManhattan Distance:\")\n",
    "print(\"Dimension\\tAverage Distance\\tStandard Deviation\")\n",
    "for dim, (avg_dist, std_dev) in results_manhattan.items():\n",
    "    print(f\"{dim}\\t\\t{avg_dist}\\t\\t{std_dev}\")"
   ]
  }
 ],
 "metadata": {
  "kernelspec": {
   "display_name": "Python 3",
   "language": "python",
   "name": "python3"
  },
  "language_info": {
   "codemirror_mode": {
    "name": "ipython",
    "version": 3
   },
   "file_extension": ".py",
   "mimetype": "text/x-python",
   "name": "python",
   "nbconvert_exporter": "python",
   "pygments_lexer": "ipython3",
   "version": "3.12.0"
  }
 },
 "nbformat": 4,
 "nbformat_minor": 2
}
