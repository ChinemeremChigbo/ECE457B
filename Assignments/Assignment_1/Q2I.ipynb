{
 "cells": [
  {
   "cell_type": "code",
   "execution_count": 43,
   "metadata": {},
   "outputs": [
    {
     "name": "stdout",
     "output_type": "stream",
     "text": [
      "Mean of z (|x + y|^2): 0.16656309610762082\n",
      "Variance of z (|x + y|^2): 0.03887352042378057\n"
     ]
    }
   ],
   "source": [
    "import numpy as np\n",
    "\n",
    "# Number of Monte Carlo samples\n",
    "num_samples = 1000000\n",
    "\n",
    "# Generate random samples of x and y\n",
    "x = np.random.uniform(0, 1, size=num_samples)\n",
    "y = np.random.uniform(0, 1, size=num_samples)\n",
    "\n",
    "# Calculate z for each pair of x and y\n",
    "z = np.abs(x - y)**2\n",
    "\n",
    "# Calculate the mean (expectation) of z\n",
    "mean_z = np.mean(z)\n",
    "\n",
    "# Calculate the variance of z\n",
    "variance_z = np.var(z)\n",
    "\n",
    "# Print the results\n",
    "print(\"Mean of z (|x + y|^2):\", mean_z)\n",
    "print(\"Variance of z (|x + y|^2):\", variance_z)"
   ]
  }
 ],
 "metadata": {
  "kernelspec": {
   "display_name": "env",
   "language": "python",
   "name": "python3"
  },
  "language_info": {
   "codemirror_mode": {
    "name": "ipython",
    "version": 3
   },
   "file_extension": ".py",
   "mimetype": "text/x-python",
   "name": "python",
   "nbconvert_exporter": "python",
   "pygments_lexer": "ipython3",
   "version": "3.12.0"
  }
 },
 "nbformat": 4,
 "nbformat_minor": 2
}
