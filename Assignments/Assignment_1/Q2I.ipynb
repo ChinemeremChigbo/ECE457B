{
 "cells": [
  {
   "cell_type": "code",
   "execution_count": null,
   "metadata": {},
   "outputs": [],
   "source": [
    "import numpy as np\n",
    "\n",
    "num_samples = 1000000\n",
    "\n",
    "x = np.random.uniform(0, 1, size=num_samples)\n",
    "y = np.random.uniform(0, 1, size=num_samples)\n",
    "\n",
    "z = np.abs(x - y)**2\n",
    "\n",
    "mean_z = np.mean(z)\n",
    "\n",
    "variance_z = np.var(z)\n",
    "\n",
    "print(\"Mean of z (|x + y|^2):\", mean_z)\n",
    "print(\"Variance of z (|x + y|^2):\", variance_z)"
   ]
  }
 ],
 "metadata": {
  "kernelspec": {
   "display_name": "env",
   "language": "python",
   "name": "python3"
  },
  "language_info": {
   "codemirror_mode": {
    "name": "ipython",
    "version": 3
   },
   "file_extension": ".py",
   "mimetype": "text/x-python",
   "name": "python",
   "nbconvert_exporter": "python",
   "pygments_lexer": "ipython3",
   "version": "3.12.0"
  }
 },
 "nbformat": 4,
 "nbformat_minor": 2
}
